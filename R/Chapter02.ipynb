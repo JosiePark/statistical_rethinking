{
 "cells": [
  {
   "cell_type": "markdown",
   "id": "7f71cc71",
   "metadata": {},
   "source": [
    "# Chapter 2\n",
    "\n",
    "## Example 2.1: Marbles in a bag\n",
    "\n",
    "**Problem** : We have a bag with 4 marbles with 2 colours of marbles.\n",
    "\n",
    "**Question** : What marbles are in the bag?\n",
    "\n",
    "We wish to find out which combination of marbles in the bag is the most likely given what is drawn from it. \n",
    "\n",
    "Denote the proportion of blue marbles by $p$, and $D_{new}$ = bwb. Therefore:\n",
    "\n",
    "<center> Probability of $p$ after observing $D_{new} \\propto $ way $p$ can produce $D_{new} \\times$ prior plausibility of $p$ </center>\n",
    "\n",
    "| Possible Combination | $p$ | Ways to produce bwb | Plausibility |\n",
    "| --- | --- | --- | --- |\n",
    "| wwww | 0 | 0 | 0 |\n",
    "| bwww | 0.25 | 3 | 0.15 |\n",
    "| bbww | 0.5 | 8 | 0.40 |\n",
    "| bbbw | 0.75 | 9 | 0.45 |\n",
    "| bbbb | 1 | 0 | 0 |\n",
    "\n",
    "## Definitions\n",
    "\n",
    "* **Parameter** $p$ is a conjectured proportion\n",
    "* **Likelihood** is the relative number of ways that a value $p$ can produce the data\n",
    "* **The prior probability** is the prior plausibility of any specific $p$\n",
    "* **The posterior probability** is the new updated plausibility of any specific $p$."
   ]
  },
  {
   "cell_type": "markdown",
   "id": "65471a9c",
   "metadata": {},
   "source": [
    "## Example 2.2: Proportion of Earth that is Water\n",
    "\n",
    "**Problem** : We have a small globe representing the Earth. You toss the globe up in the air, and you will record whether the area under your index finger is land or water.\n",
    "\n",
    "**Question** : How much of Earth is covered by water?\n",
    "\n",
    "E.g. Your first 9 samples look link:\n",
    "\n",
    "<center> W L W W W L W L W </center>\n",
    "\n",
    "* The true proportion of water covering the globe is $p$.\n",
    "* A single toss of the globe has a probability of $p$ of producing W.\n",
    "* Each toss of the globe is independent of the others\n",
    "\n",
    "The probability of observing W waters and L lands, with a probabiltiy of $p$ of water on each toss is:\n",
    "\n",
    "<center> $P(W,L|p) = \\frac{(W + L)!}{W!L!}p^W(1-p)^L$ </center>\n",
    "\n",
    "The likelohood of six W's in nine tosses is:"
   ]
  },
  {
   "cell_type": "code",
   "execution_count": 4,
   "id": "478a7517",
   "metadata": {},
   "outputs": [
    {
     "data": {
      "text/html": [
       "0.1640625"
      ],
      "text/latex": [
       "0.1640625"
      ],
      "text/markdown": [
       "0.1640625"
      ],
      "text/plain": [
       "[1] 0.1640625"
      ]
     },
     "metadata": {},
     "output_type": "display_data"
    }
   ],
   "source": [
    "likelihood <- dbinom(6, size = 9, prob = 0.5)\n",
    "likelihood"
   ]
  },
  {
   "cell_type": "markdown",
   "id": "026bc176",
   "metadata": {},
   "source": [
    "We can define our priors for this problem:\n",
    "\n",
    "<center> $ W \\sim \\text{Binomial}(N,p) $ </center>\n",
    "\n",
    "where N = W + L.\n",
    "\n",
    "The unobserved parameter $p$ is:\n",
    "\n",
    "<center> $ p \\sim \\text{Uniform(0,1)} $ </center>"
   ]
  },
  {
   "cell_type": "markdown",
   "id": "5683f8ce",
   "metadata": {},
   "source": [
    "## Bayes' Theorem\n",
    "\n",
    "<center> $P(p|W,L) = \\frac{P(W,L|p)P(p)}{P(W,L)}$ </center>\n",
    "\n",
    "It says that the probability of any particular value of $p$, considering the data, is equal to the relative plausibility of the data, conditional on $p$, and the prior plausibility of $p$, divided by the average probability of the data.\n",
    "\n",
    "<center> $P(W,L) = E(P(W,L|p))$ </center>"
   ]
  },
  {
   "cell_type": "markdown",
   "id": "976405d5",
   "metadata": {},
   "source": [
    "## Methods of computing posterior distributions\n",
    "\n",
    "### Grid Approximation\n",
    "\n",
    "At any particular value of a parameter $p'$, to get the posterior probability, multiply the prior probaility of $p'$ by the \n",
    "likelihood at $p'$.\n",
    "\n",
    "We return to the globe tossing example."
   ]
  },
  {
   "cell_type": "code",
   "execution_count": 18,
   "id": "880e4452",
   "metadata": {},
   "outputs": [],
   "source": [
    "n = 1000\n",
    "\n",
    "# define grid\n",
    "p_grid <- seq(from=0,to=1,length.out=n)\n",
    "\n",
    "# define prior\n",
    "prior <- rep(1,n)\n",
    "\n",
    "# compute likelihhod at each value in the grid of the event that in 9 tosses, there are 6 waters\n",
    "likelihood <- dbinom(6,size=9,prob=p_grid)\n",
    "\n",
    "# compute product of likelihood and prior\n",
    "unstd.posterior <- likelihood * prior\n",
    "\n",
    "# normalize\n",
    "posterior <- unstd.posterior / sum(unstd.posterior)"
   ]
  },
  {
   "cell_type": "code",
   "execution_count": 19,
   "id": "baace100",
   "metadata": {},
   "outputs": [
    {
     "data": {
      "image/png": "[encoded data removed]",
      "text/plain": [
       "plot without title"
      ]
     },
     "metadata": {},
     "output_type": "display_data"
    }
   ],
   "source": [
    "plot(p_grid, posterior, type = \"b\", xlab = \"probaility of water\", ylab = \"posterior probability\")"
   ]
  },
  {
   "cell_type": "markdown",
   "id": "7ff651ca",
   "metadata": {},
   "source": [
    "## Quadratic Approximation\n",
    "\n",
    "Grid approximation does not scale well with an increasing number of parameters. Say that you want to approximate two parameters. Using a grid approximation, with 100 tries for each parameter, gives 100^2 total tries.\n",
    "\n",
    "Under general conditions, the region near the peak of the posterior distribution will be Gaussian. A Gaussian approximation is called a quadratic approximation because the logarathm of Gaussian is a parabola. So this approximation regresents any log-posterior with a parabola. \n",
    "\n",
    "There are two steps:\n",
    "\n",
    "* Find the posterior mode. This is done using optimization.\n",
    "* Once you find the peak of the posterior, you must estimate the curvature near the peak."
   ]
  },
  {
   "cell_type": "code",
   "execution_count": null,
   "id": "d66b710a",
   "metadata": {},
   "outputs": [],
   "source": []
  },
  {
   "cell_type": "code",
   "execution_count": null,
   "id": "26b5181f",
   "metadata": {},
   "outputs": [],
   "source": []
  }
 ],
 "metadata": {
  "kernelspec": {
   "display_name": "R",
   "language": "R",
   "name": "ir"
  },
  "language_info": {
   "codemirror_mode": "r",
   "file_extension": ".r",
   "mimetype": "text/x-r-source",
   "name": "R",
   "pygments_lexer": "r",
   "version": "3.6.1"
  }
 },
 "nbformat": 4,
 "nbformat_minor": 5
}
